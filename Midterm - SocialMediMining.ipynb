{
 "cells": [
  {
   "cell_type": "code",
   "execution_count": 85,
   "metadata": {},
   "outputs": [],
   "source": [
    "import pandas as pd\n",
    "import numpy as np\n",
    "import matplotlib.pyplot as plt\n",
    "import seaborn as sns\n",
    "import sklearn.cluster\n",
    "from datetime import datetime\n",
    "%config IPCompleter.greedy=True"
   ]
  },
  {
   "cell_type": "code",
   "execution_count": 103,
   "metadata": {},
   "outputs": [],
   "source": [
    "dataset = pd.read_json('https://api.myjson.com/bins/wznck')"
   ]
  },
  {
   "cell_type": "code",
   "execution_count": 104,
   "metadata": {},
   "outputs": [
    {
     "name": "stdout",
     "output_type": "stream",
     "text": [
      "2016-03-07\n",
      "1\n",
      "2017-06-03\n",
      "3\n",
      "2014-10-08\n",
      "2\n",
      "2017-10-13\n",
      "3\n",
      "2017-05-14\n",
      "5\n",
      "2015-03-01\n",
      "4\n",
      "[{'date': 1457326800000, 'stars': 1}, {'date': 1496462400000, 'stars': 3}, {'date': 1412740800000, 'stars': 2}, {'date': 1507867200000, 'stars': 3}, {'date': 1494734400000, 'stars': 5}, {'date': 1425186000000, 'stars': 4}]\n",
      "{'date': 1425186000000, 'stars': 4}\n"
     ]
    }
   ],
   "source": [
    "dataDict = dict(date=\"2011-02-25\",stars=5)\n",
    "dataList = list()\n",
    "\n",
    "\n",
    "for r in dataset:\n",
    "    print(dataset[r][\"date\"])\n",
    "    print(dataset[r][\"stars\"])\n",
    "    dataDict = dict(date=\"2011-02-25\",stars=5)\n",
    "    dataDict[\"date\"] = int(round(datetime.strptime(dataset[r][\"date\"], \"%Y-%m-%d\").timestamp() * 1000))\n",
    "    dataDict[\"stars\"] = dataset[r][\"stars\"]\n",
    "    dataList.append(dataDict)\n",
    "    \n",
    "print(dataList)\n",
    "print(dataDict)"
   ]
  },
  {
   "cell_type": "code",
   "execution_count": null,
   "metadata": {},
   "outputs": [],
   "source": []
  },
  {
   "cell_type": "code",
   "execution_count": 105,
   "metadata": {},
   "outputs": [
    {
     "name": "stdout",
     "output_type": "stream",
     "text": [
      "            date  stars\n",
      "0  1457326800000      1\n",
      "1  1496462400000      3\n",
      "2  1412740800000      2\n",
      "3  1507867200000      3\n",
      "4  1494734400000      5\n",
      "5  1425186000000      4\n"
     ]
    }
   ],
   "source": [
    "myframe = pd.DataFrame(dataList)\n",
    "print(myframe)"
   ]
  },
  {
   "cell_type": "code",
   "execution_count": 106,
   "metadata": {},
   "outputs": [
    {
     "name": "stderr",
     "output_type": "stream",
     "text": [
      "/anaconda3/lib/python3.6/site-packages/matplotlib/axes/_axes.py:6462: UserWarning: The 'normed' kwarg is deprecated, and has been replaced by the 'density' kwarg.\n",
      "  warnings.warn(\"The 'normed' kwarg is deprecated, and has been \"\n",
      "/anaconda3/lib/python3.6/site-packages/matplotlib/axes/_axes.py:6462: UserWarning: The 'normed' kwarg is deprecated, and has been replaced by the 'density' kwarg.\n",
      "  warnings.warn(\"The 'normed' kwarg is deprecated, and has been \"\n"
     ]
    },
    {
     "data": {
      "image/png": "[encoded data removed]",
      "text/plain": [
       "<Figure size 432x432 with 3 Axes>"
      ]
     },
     "metadata": {},
     "output_type": "display_data"
    }
   ],
   "source": [
    "sns.jointplot('date','stars', data=myframe)\n",
    "\n",
    "X = myframe[[\"date\"]]\n",
    "y = myframe[[\"stars\"]]"
   ]
  },
  {
   "cell_type": "code",
   "execution_count": 111,
   "metadata": {},
   "outputs": [],
   "source": [
    "from sklearn.model_selection import train_test_split\n",
    "from sklearn.cluster import KMeans\n",
    "\n",
    "X_train, X_test, y_train, y_test = train_test_split(X, y, test_size=0.3, random_state=101)\n",
    "\n",
    "kmeans = KMeans(n_clusters=4, random_state=0).fit(X_train, y_train)\n",
    "pred = kmeans.predict(X)\n",
    "\n",
    "#hierarchal\n",
    "#\n",
    "\n"
   ]
  }
 ],
 "metadata": {
  "kernelspec": {
   "display_name": "Python 3",
   "language": "python",
   "name": "python3"
  },
  "language_info": {
   "codemirror_mode": {
    "name": "ipython",
    "version": 3
   },
   "file_extension": ".py",
   "mimetype": "text/x-python",
   "name": "python",
   "nbconvert_exporter": "python",
   "pygments_lexer": "ipython3",
   "version": "3.6.5"
  }
 },
 "nbformat": 4,
 "nbformat_minor": 2
}
